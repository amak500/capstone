{
 "cells": [
  {
   "cell_type": "markdown",
   "metadata": {},
   "source": [
    "## TECHNICAL REPORT - MOVIE REVENUE REGRESSION"
   ]
  },
  {
   "cell_type": "markdown",
   "metadata": {},
   "source": [
    "### PROBLEM STATEMENT\n"
   ]
  },
  {
   "cell_type": "markdown",
   "metadata": {},
   "source": [
    "The film industry is still a rapidly expanding beast. As of 2018, the global box office is worth at least 41.7 billion dollars, with home entertainment bringing that up to a massive 136 billion. Thus, every movie designed to be released for a wide audience has serious expectations on its shoulders. However, sometimes movies don't like up to the hype. For example, “Solo: A Star Wars Story” made roughly 400 million dollars worldwide, but cost over 450 million to create and market. On the other hand, the film \"Napoleon Dynamite\" only cost 400,000 dollar to create and market, but made 46.1 million worldwide. \n",
    "\n",
    "With this in mind, my goal for this project was to build a regression model that could predict how much a proposed movie would make given who would be cast, write, direct, etc. This would provide studios with the capability to predict how well proposed movies would do would as well choose whether or not a movie should be financed. "
   ]
  },
  {
   "cell_type": "markdown",
   "metadata": {},
   "source": [
    "### DATA COLLECTION"
   ]
  },
  {
   "cell_type": "markdown",
   "metadata": {},
   "source": [
    "I obtained the reviews and business data directly from Kaggle. The dataset can be found on Kaggle [here](https://www.kaggle.com/c/tmdb-box-office-prediction/).\n",
    "\n",
    "Data was obtained in .csv format and stored on my local machine. "
   ]
  },
  {
   "cell_type": "markdown",
   "metadata": {},
   "source": [
    "### EXPLORATORY DATA ANALYSIS"
   ]
  },
  {
   "cell_type": "markdown",
   "metadata": {},
   "source": [
    "The dataset originally contained 3000  movies. However, after cleaning the data and imputing and removing null values, I pared it down to 2775 values. "
   ]
  },
  {
   "cell_type": "markdown",
   "metadata": {},
   "source": [
    "The distribution of movie genres is located in the histogram below. <img src=\"number_of_genres_vs_number_of_movies.png\"> \n",
    "Most movies have between 1 and 5 genres, with only a few having 6 or more.\n",
    "\n",
    "\n",
    "Additionally, the distribution of revenue is located in the histogram below. <img src=\"revenue_vs_number_of_movies.png\"> \n",
    "It appears that the distribution of revenue is skewed highly to the right. \n",
    "\n",
    "The distribution of runtime is located in the histogram below. <img src=\"Runtime_vs_number_of_movies.png\"> \n",
    "Most movies are between an hour and 4 hours long, with only a few being shorter than an hour or longer than 4 hours. \n",
    "\n",
    "According to the scatterplot of revenue and budget below, there is a roughly positive correlation between the revenue and the budget of a movie. <img src=\"Revenue_vs_Budget.png\"> "
   ]
  },
  {
   "cell_type": "markdown",
   "metadata": {},
   "source": [
    "The top 20 most important actors  and the number of movies they've been in are [('Samuel L. Jackson', 29),\n",
    " ('Robert De Niro', 29),\n",
    " ('Morgan Freeman', 27),\n",
    " ('Bruce Willis', 25),\n",
    " ('Liam Neeson', 25),\n",
    " ('J.K. Simmons', 23),\n",
    " ('Willem Dafoe', 23),\n",
    " ('Bruce McGill', 23),\n",
    " ('Susan Sarandon', 23),\n",
    " ('John Turturro', 23),\n",
    " ('Forest Whitaker', 22),\n",
    " ('Bill Murray', 22),\n",
    " ('Owen Wilson', 22),\n",
    " ('Sylvester Stallone', 21),\n",
    " ('Jason Statham', 21),\n",
    " ('John Goodman', 21),\n",
    " ('Mel Gibson', 21),\n",
    " ('Sigourney Weaver', 21),\n",
    " ('Nicolas Cage', 21),\n",
    "  ('Keith David', 20)]."
   ]
  },
  {
   "cell_type": "markdown",
   "metadata": {},
   "source": [
    "The top 20 most important crew members and the number of movies they've been in are [('Avy Kaufman', 49),\n",
    " ('Robert Rodriguez', 44),\n",
    " ('Deborah Aquila', 40),\n",
    " ('James Newton Howard', 38),\n",
    " ('Mary Vernieu', 38),\n",
    " ('Steven Spielberg', 37),\n",
    " ('Luc Besson', 37),\n",
    " ('Jerry Goldsmith', 37),\n",
    " ('Francine Maisler', 35),\n",
    " ('Tricia Wood', 35),\n",
    " ('James Horner', 33),\n",
    " ('Kerry Barden', 30),\n",
    " ('Bob Weinstein', 30),\n",
    " ('Harvey Weinstein', 30),\n",
    " ('Janet Hirshenson', 30),\n",
    " ('Jane Jenkins', 29),\n",
    " ('John Debney', 28),\n",
    " ('John Papsidera', 28),\n",
    " ('Francis Ford Coppola', 28),\n",
    " ('Hans Zimmer', 27)]"
   ]
  },
  {
   "cell_type": "markdown",
   "metadata": {},
   "source": [
    "All of my statistical analysis was performed on my local machine.  "
   ]
  },
  {
   "cell_type": "markdown",
   "metadata": {},
   "source": [
    "#### RESULTS"
   ]
  },
  {
   "cell_type": "markdown",
   "metadata": {},
   "source": [
    "For my Naive model, I used the mean of my dataset as the prediction for every movie, and obtained a Root Mean Squared error of 158616484.34 dollars.  I used XGBoost, LinearRegression, Lasso, Ridge, and RandomForestRegressor models to try to predict movie revenue.  Out of the four, my XGBoost model performed the best, lowering the Root Mean Squared Error compared to the Naive model by 25 percent, to 121703294.48 dollars. Thus, I am choosing my XGBoost model to productionalize. Further hyperparameter tuning yielded no noticeable decrease of RMSE. "
   ]
  },
  {
   "cell_type": "markdown",
   "metadata": {},
   "source": [
    "## FUTURE STEPS"
   ]
  },
  {
   "cell_type": "markdown",
   "metadata": {},
   "source": [
    "#### ACQUIRE MORE DATA <br>\n",
    "\n",
    "Although my model did well when trying to predict revenues, my initial dataset was only 3000 reviews, which is a relatively small dataset. I would like to acquire more data specifically of non-English movies such as films from Bollywood or the Chinese film market. \n",
    "\n",
    "#### IMPROVE MODEL BY INCLUDING PCA\n",
    "\n",
    "Given the time, in the future I would like to use principal component analysis to analyze movies' taglines and sypnoses to find out if there is any correlation between certain popular key phrases and movie revenue."
   ]
  }
 ],
 "metadata": {
  "kernelspec": {
   "display_name": "Python 3",
   "language": "python",
   "name": "python3"
  },
  "language_info": {
   "codemirror_mode": {
    "name": "ipython",
    "version": 3
   },
   "file_extension": ".py",
   "mimetype": "text/x-python",
   "name": "python",
   "nbconvert_exporter": "python",
   "pygments_lexer": "ipython3",
   "version": "3.7.3"
  }
 },
 "nbformat": 4,
 "nbformat_minor": 2
}
