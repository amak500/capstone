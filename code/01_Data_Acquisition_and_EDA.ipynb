{
 "cells": [
  {
   "cell_type": "markdown",
   "metadata": {},
   "source": [
    "## DATA ACQUISITION"
   ]
  },
  {
   "cell_type": "markdown",
   "metadata": {},
   "source": [
    "The Kaggle data is sourced from and consists of metadata from https://www.themoviedb.org/. "
   ]
  },
  {
   "cell_type": "code",
   "execution_count": 1,
   "metadata": {},
   "outputs": [],
   "source": [
    "import pandas as pd\n",
    "import numpy as np \n",
    "import pandas_profiling as profile\n",
    "import matplotlib.pyplot as plt\n",
    "import seaborn as sns\n",
    "from collections import Counter \n",
    "from sklearn.model_selection import train_test_split\n",
    "%matplotlib inline"
   ]
  },
  {
   "cell_type": "markdown",
   "metadata": {},
   "source": [
    "This imports all of the libaries that I need. "
   ]
  },
  {
   "cell_type": "code",
   "execution_count": 2,
   "metadata": {},
   "outputs": [],
   "source": [
    "train_data = pd.read_csv('../data/train.csv')"
   ]
  },
  {
   "cell_type": "markdown",
   "metadata": {},
   "source": [
    "This imports the data that I downloaded from Kaggle. "
   ]
  },
  {
   "cell_type": "code",
   "execution_count": 3,
   "metadata": {},
   "outputs": [
    {
     "data": {
      "text/plain": [
       "id                          0\n",
       "belongs_to_collection    2396\n",
       "budget                      0\n",
       "genres                      7\n",
       "homepage                 2054\n",
       "imdb_id                     0\n",
       "original_language           0\n",
       "original_title              0\n",
       "overview                    8\n",
       "popularity                  0\n",
       "poster_path                 1\n",
       "production_companies      156\n",
       "production_countries       55\n",
       "release_date                0\n",
       "runtime                     2\n",
       "spoken_languages           20\n",
       "status                      0\n",
       "tagline                   597\n",
       "title                       0\n",
       "Keywords                  276\n",
       "cast                       13\n",
       "crew                       16\n",
       "revenue                     0\n",
       "dtype: int64"
      ]
     },
     "execution_count": 3,
     "metadata": {},
     "output_type": "execute_result"
    }
   ],
   "source": [
    "train_data.isnull().sum()"
   ]
  },
  {
   "cell_type": "markdown",
   "metadata": {},
   "source": [
    "This checks for which columns contain null values. "
   ]
  },
  {
   "cell_type": "code",
   "execution_count": 4,
   "metadata": {},
   "outputs": [],
   "source": [
    "train_data.belongs_to_collection.fillna('No Collection', inplace = True)"
   ]
  },
  {
   "cell_type": "code",
   "execution_count": 5,
   "metadata": {},
   "outputs": [],
   "source": [
    "train_data.homepage.fillna(\"No Homepage\", inplace = True)"
   ]
  },
  {
   "cell_type": "code",
   "execution_count": 6,
   "metadata": {},
   "outputs": [],
   "source": [
    "train_data.tagline.fillna(\"No Tagline\", inplace = True)"
   ]
  },
  {
   "cell_type": "code",
   "execution_count": 7,
   "metadata": {},
   "outputs": [],
   "source": [
    "train_data.Keywords.fillna(\"{}\", inplace = True)"
   ]
  },
  {
   "cell_type": "code",
   "execution_count": 8,
   "metadata": {},
   "outputs": [],
   "source": [
    "train_data.cast.fillna(\"{}\", inplace = True)"
   ]
  },
  {
   "cell_type": "code",
   "execution_count": 9,
   "metadata": {},
   "outputs": [],
   "source": [
    "train_data.crew.fillna(\"{}\", inplace = True)"
   ]
  },
  {
   "cell_type": "markdown",
   "metadata": {},
   "source": [
    "The above 6 lines of code imputes missing values for belongs_to_collection, homepage, tagline, Keywords, cast, and crew. "
   ]
  },
  {
   "cell_type": "code",
   "execution_count": 10,
   "metadata": {},
   "outputs": [],
   "source": [
    "train_data = train_data[train_data.revenue > 1000]"
   ]
  },
  {
   "cell_type": "markdown",
   "metadata": {},
   "source": [
    "This drops outliers in the dataset that have made less than $1000. "
   ]
  },
  {
   "cell_type": "code",
   "execution_count": 11,
   "metadata": {},
   "outputs": [],
   "source": [
    "train_data.dropna(inplace=True)"
   ]
  },
  {
   "cell_type": "markdown",
   "metadata": {},
   "source": [
    "This drops any remaining null values. "
   ]
  },
  {
   "cell_type": "code",
   "execution_count": 12,
   "metadata": {},
   "outputs": [
    {
     "data": {
      "text/plain": [
       "(2775, 23)"
      ]
     },
     "execution_count": 12,
     "metadata": {},
     "output_type": "execute_result"
    }
   ],
   "source": [
    "train_data.shape"
   ]
  },
  {
   "cell_type": "markdown",
   "metadata": {},
   "source": [
    "Thus, I am left with 2775 remaining rows. "
   ]
  },
  {
   "cell_type": "markdown",
   "metadata": {},
   "source": [
    "## IMDB ID"
   ]
  },
  {
   "cell_type": "markdown",
   "metadata": {},
   "source": [
    "Since the id and imdb id of each movie is a unique identifier, it does not help us predict revenue in any way and only serves to increase the cardinality of my data. Thus, I will drop it from my dataset. "
   ]
  },
  {
   "cell_type": "code",
   "execution_count": 13,
   "metadata": {},
   "outputs": [],
   "source": [
    "train_data.drop(columns=\"imdb_id\", inplace = True)"
   ]
  },
  {
   "cell_type": "code",
   "execution_count": 14,
   "metadata": {},
   "outputs": [],
   "source": [
    "train_data.drop(columns=\"id\", inplace = True)"
   ]
  },
  {
   "cell_type": "markdown",
   "metadata": {},
   "source": [
    "## GENRES"
   ]
  },
  {
   "cell_type": "code",
   "execution_count": 15,
   "metadata": {},
   "outputs": [],
   "source": [
    "train_data['genres'] = train_data['genres'].apply(lambda x: eval(x))"
   ]
  },
  {
   "cell_type": "code",
   "execution_count": 16,
   "metadata": {},
   "outputs": [],
   "source": [
    "train_data['number_of_genres'] = train_data['genres'].apply(lambda x: len(x))"
   ]
  },
  {
   "cell_type": "code",
   "execution_count": 17,
   "metadata": {},
   "outputs": [
    {
     "data": {
      "text/plain": [
       "2    878\n",
       "3    858\n",
       "1    536\n",
       "4    372\n",
       "5    108\n",
       "6     20\n",
       "7      3\n",
       "Name: number_of_genres, dtype: int64"
      ]
     },
     "execution_count": 17,
     "metadata": {},
     "output_type": "execute_result"
    }
   ],
   "source": [
    "train_data.number_of_genres.value_counts()"
   ]
  },
  {
   "cell_type": "code",
   "execution_count": 18,
   "metadata": {},
   "outputs": [
    {
     "data": {
      "image/png": "[encoded data removed]",
      "text/plain": [
       "<Figure size 432x288 with 1 Axes>"
      ]
     },
     "metadata": {
      "needs_background": "light"
     },
     "output_type": "display_data"
    }
   ],
   "source": [
    "ax_genres = train_data.number_of_genres.value_counts().plot.bar()\n",
    "ax_genres.set_title('Number of Genres vs Number of Movies')\n",
    "ax_genres.set_xlabel('Number of Genres')\n",
    "ax_genres.set_ylabel('Number of Movies')\n",
    "plt.savefig(\"number_of_genres_vs_number_of_movies.png\")"
   ]
  },
  {
   "cell_type": "markdown",
   "metadata": {},
   "source": [
    "Most movies have between 1 and 5 genres, with only a few having 6 or more. "
   ]
  },
  {
   "cell_type": "markdown",
   "metadata": {},
   "source": [
    "## REVENUE"
   ]
  },
  {
   "cell_type": "code",
   "execution_count": 19,
   "metadata": {},
   "outputs": [
    {
     "data": {
      "image/png": "[encoded data removed]",
      "text/plain": [
       "<Figure size 432x288 with 1 Axes>"
      ]
     },
     "metadata": {
      "needs_background": "light"
     },
     "output_type": "display_data"
    }
   ],
   "source": [
    "ax_revenue = sns.distplot(train_data.revenue,kde=False)\n",
    "ax_revenue.set_title('Revenue vs Number of Movies')\n",
    "ax_revenue.set_xlabel('Revenue')\n",
    "ax_revenue.set_ylabel('Number of Movies')\n",
    "plt.savefig(\"revenue_vs_number_of_movies.png\")"
   ]
  },
  {
   "cell_type": "markdown",
   "metadata": {},
   "source": [
    "The distribution of the revenue is highly skewed to the right. "
   ]
  },
  {
   "cell_type": "code",
   "execution_count": 20,
   "metadata": {},
   "outputs": [
    {
     "data": {
      "image/png": "[encoded data removed]",
      "text/plain": [
       "<Figure size 432x288 with 1 Axes>"
      ]
     },
     "metadata": {
      "needs_background": "light"
     },
     "output_type": "display_data"
    }
   ],
   "source": [
    "ax_log_revenue = sns.distplot(np.log(train_data.revenue),kde=False)\n",
    "ax_log_revenue.set_title('Log Revenue vs Number of Movies')\n",
    "ax_log_revenue.set_xlabel('Log Revenue')\n",
    "ax_log_revenue.set_ylabel('Number of Movies')\n",
    "plt.savefig(\"log_revenue_vs_number_of_movies.png\")"
   ]
  },
  {
   "cell_type": "markdown",
   "metadata": {},
   "source": [
    "The distribution of the log of the revenue is skewed to the left, which is to be expected, as some movies earn dramatically more than others. "
   ]
  },
  {
   "cell_type": "code",
   "execution_count": 21,
   "metadata": {},
   "outputs": [
    {
     "data": {
      "image/png": "[encoded data removed]",
      "text/plain": [
       "<Figure size 432x288 with 1 Axes>"
      ]
     },
     "metadata": {
      "needs_background": "light"
     },
     "output_type": "display_data"
    }
   ],
   "source": [
    "ax_runtime = sns.distplot(train_data.runtime,kde=False)\n",
    "ax_runtime.set_title('Runtime vs Number of Movies')\n",
    "ax_runtime.set_xlabel('runtime')\n",
    "ax_runtime.set_ylabel('number of movies')\n",
    "plt.savefig(\"Runtime_vs_number_of_movies.png\")"
   ]
  },
  {
   "cell_type": "markdown",
   "metadata": {},
   "source": [
    "The distribution of the runtime of the movies in our dataset is skewed to the right. "
   ]
  },
  {
   "cell_type": "code",
   "execution_count": 22,
   "metadata": {},
   "outputs": [
    {
     "data": {
      "image/png": "[encoded data removed]",
      "text/plain": [
       "<Figure size 432x288 with 1 Axes>"
      ]
     },
     "metadata": {
      "needs_background": "light"
     },
     "output_type": "display_data"
    }
   ],
   "source": [
    "ax_budget = sns.scatterplot(train_data.revenue,train_data.budget)\n",
    "ax_budget.set_xlabel('Revenue')\n",
    "ax_budget.set_ylabel('Budget')\n",
    "ax_budget.set_title('Revenue vs Budget')\n",
    "plt.savefig(\"Revenue_vs_Budget.png\")"
   ]
  },
  {
   "cell_type": "markdown",
   "metadata": {},
   "source": [
    "## Budget"
   ]
  },
  {
   "cell_type": "code",
   "execution_count": 23,
   "metadata": {},
   "outputs": [
    {
     "data": {
      "image/png": "[encoded data removed]",
      "text/plain": [
       "<Figure size 432x288 with 1 Axes>"
      ]
     },
     "metadata": {
      "needs_background": "light"
     },
     "output_type": "display_data"
    }
   ],
   "source": [
    "ax_budget = sns.distplot(train_data.budget,kde=False)\n",
    "ax_budget.set_xlabel('Budget')\n",
    "ax_budget.set_ylabel('Number of Movies')\n",
    "ax_budget.set_title('Budget vs Number of Movies')\n",
    "plt.savefig(\"Budget_vs_number_of_movies.png\")"
   ]
  },
  {
   "cell_type": "markdown",
   "metadata": {},
   "source": [
    "We can see here that the budget follows the trend of movie revenues, being skewed to the right as well, although it's scale is a tenth of revenue's. "
   ]
  },
  {
   "cell_type": "markdown",
   "metadata": {},
   "source": [
    "# RUNTIME"
   ]
  },
  {
   "cell_type": "code",
   "execution_count": 24,
   "metadata": {},
   "outputs": [
    {
     "data": {
      "image/png": "[encoded data removed]",
      "text/plain": [
       "<Figure size 432x288 with 1 Axes>"
      ]
     },
     "metadata": {
      "needs_background": "light"
     },
     "output_type": "display_data"
    }
   ],
   "source": [
    "ax_runtime_popularity = sns.scatterplot(train_data.runtime,train_data.revenue)\n",
    "ax_runtime_popularity.set_xlabel('Runtime')\n",
    "ax_runtime_popularity.set_ylabel('Revenue')\n",
    "ax_runtime_popularity.set_title('Runtime vs Revenue')\n",
    "plt.savefig(\"Runtime_vs_Revenue.png\")"
   ]
  },
  {
   "cell_type": "markdown",
   "metadata": {},
   "source": [
    "It appears that the films that make the most money are between one and three hours long. "
   ]
  },
  {
   "cell_type": "code",
   "execution_count": 25,
   "metadata": {},
   "outputs": [
    {
     "data": {
      "image/png": "[encoded data removed]",
      "text/plain": [
       "<Figure size 432x288 with 1 Axes>"
      ]
     },
     "metadata": {
      "needs_background": "light"
     },
     "output_type": "display_data"
    }
   ],
   "source": [
    "ax_runtime_popularity = sns.scatterplot(train_data.runtime,train_data.popularity)\n",
    "ax_runtime_popularity.set_xlabel('Runtime')\n",
    "ax_runtime_popularity.set_ylabel('Popularity')\n",
    "ax_runtime_popularity.set_title('Popularity vs Runtime')\n",
    "plt.savefig(\"Popularity_vs_Runtime.png\")"
   ]
  },
  {
   "cell_type": "markdown",
   "metadata": {},
   "source": [
    "It also appears that the most popular films are between one and four hours long. "
   ]
  },
  {
   "cell_type": "markdown",
   "metadata": {},
   "source": [
    "## STATUS"
   ]
  },
  {
   "cell_type": "code",
   "execution_count": 26,
   "metadata": {},
   "outputs": [
    {
     "data": {
      "text/plain": [
       "Released    2774\n",
       "Rumored        1\n",
       "Name: status, dtype: int64"
      ]
     },
     "execution_count": 26,
     "metadata": {},
     "output_type": "execute_result"
    }
   ],
   "source": [
    "train_data.status.value_counts()"
   ]
  },
  {
   "cell_type": "code",
   "execution_count": 27,
   "metadata": {},
   "outputs": [],
   "source": [
    "train_data.drop(columns=\"status\",inplace=True)"
   ]
  },
  {
   "cell_type": "markdown",
   "metadata": {},
   "source": [
    "I believe that since there is such a large class imbalance of released to nonreleased movies, then predicting how well a movie will do based on whether or not it has been released will not be very fruitful. Thus, I will not be including it in my predictive features. "
   ]
  },
  {
   "cell_type": "markdown",
   "metadata": {},
   "source": [
    "## TAGLINE"
   ]
  },
  {
   "cell_type": "code",
   "execution_count": 28,
   "metadata": {},
   "outputs": [
    {
     "name": "stderr",
     "output_type": "stream",
     "text": [
      "C:\\Users\\Danton\\Anaconda3\\lib\\site-packages\\ipykernel_launcher.py:1: SettingWithCopyWarning: \n",
      "A value is trying to be set on a copy of a slice from a DataFrame\n",
      "\n",
      "See the caveats in the documentation: http://pandas.pydata.org/pandas-docs/stable/indexing.html#indexing-view-versus-copy\n",
      "  \"\"\"Entry point for launching an IPython kernel.\n"
     ]
    }
   ],
   "source": [
    "train_data.tagline[train_data.tagline != \"No Tagline\"] = 1   "
   ]
  },
  {
   "cell_type": "code",
   "execution_count": 29,
   "metadata": {},
   "outputs": [
    {
     "name": "stderr",
     "output_type": "stream",
     "text": [
      "C:\\Users\\Danton\\Anaconda3\\lib\\site-packages\\ipykernel_launcher.py:1: SettingWithCopyWarning: \n",
      "A value is trying to be set on a copy of a slice from a DataFrame\n",
      "\n",
      "See the caveats in the documentation: http://pandas.pydata.org/pandas-docs/stable/indexing.html#indexing-view-versus-copy\n",
      "  \"\"\"Entry point for launching an IPython kernel.\n"
     ]
    }
   ],
   "source": [
    "train_data.tagline[train_data.tagline == \"No Tagline\"] = 0"
   ]
  },
  {
   "cell_type": "code",
   "execution_count": 30,
   "metadata": {},
   "outputs": [
    {
     "data": {
      "text/plain": [
       "1    2311\n",
       "0     464\n",
       "Name: tagline, dtype: int64"
      ]
     },
     "execution_count": 30,
     "metadata": {},
     "output_type": "execute_result"
    }
   ],
   "source": [
    "train_data.tagline.value_counts()"
   ]
  },
  {
   "cell_type": "code",
   "execution_count": 31,
   "metadata": {},
   "outputs": [
    {
     "data": {
      "image/png": "[encoded data removed]",
      "text/plain": [
       "<Figure size 432x288 with 1 Axes>"
      ]
     },
     "metadata": {
      "needs_background": "light"
     },
     "output_type": "display_data"
    }
   ],
   "source": [
    "ax_tagline = train_data.tagline.value_counts().plot.bar()\n",
    "ax_tagline.set_title('Has Tagline vs Number of Movies')\n",
    "ax_tagline.set_xlabel('Has Tagline')\n",
    "ax_tagline.set_ylabel('Number of Movies')\n",
    "plt.savefig(\"has_tagline_vs_number_of_movies.png\")"
   ]
  },
  {
   "cell_type": "markdown",
   "metadata": {},
   "source": [
    "There is a class imbalance of movies with taglines to movies without taglines at a ratio of around 5 to 1.  "
   ]
  },
  {
   "cell_type": "markdown",
   "metadata": {},
   "source": [
    "## BELONGS TO COLLECTION "
   ]
  },
  {
   "cell_type": "code",
   "execution_count": 32,
   "metadata": {},
   "outputs": [
    {
     "name": "stderr",
     "output_type": "stream",
     "text": [
      "C:\\Users\\Danton\\Anaconda3\\lib\\site-packages\\ipykernel_launcher.py:1: SettingWithCopyWarning: \n",
      "A value is trying to be set on a copy of a slice from a DataFrame\n",
      "\n",
      "See the caveats in the documentation: http://pandas.pydata.org/pandas-docs/stable/indexing.html#indexing-view-versus-copy\n",
      "  \"\"\"Entry point for launching an IPython kernel.\n"
     ]
    }
   ],
   "source": [
    "train_data.belongs_to_collection[train_data.belongs_to_collection != \"No Collection\"] = 1   "
   ]
  },
  {
   "cell_type": "code",
   "execution_count": 33,
   "metadata": {},
   "outputs": [
    {
     "name": "stderr",
     "output_type": "stream",
     "text": [
      "C:\\Users\\Danton\\Anaconda3\\lib\\site-packages\\ipykernel_launcher.py:1: SettingWithCopyWarning: \n",
      "A value is trying to be set on a copy of a slice from a DataFrame\n",
      "\n",
      "See the caveats in the documentation: http://pandas.pydata.org/pandas-docs/stable/indexing.html#indexing-view-versus-copy\n",
      "  \"\"\"Entry point for launching an IPython kernel.\n"
     ]
    }
   ],
   "source": [
    "train_data.belongs_to_collection[train_data.belongs_to_collection == \"No Collection\"] = 0"
   ]
  },
  {
   "cell_type": "code",
   "execution_count": 34,
   "metadata": {},
   "outputs": [
    {
     "data": {
      "text/plain": [
       "0    2192\n",
       "1     583\n",
       "Name: belongs_to_collection, dtype: int64"
      ]
     },
     "execution_count": 34,
     "metadata": {},
     "output_type": "execute_result"
    }
   ],
   "source": [
    "train_data.belongs_to_collection.value_counts()"
   ]
  },
  {
   "cell_type": "code",
   "execution_count": 35,
   "metadata": {},
   "outputs": [
    {
     "data": {
      "image/png": "[encoded data removed]",
      "text/plain": [
       "<Figure size 432x288 with 1 Axes>"
      ]
     },
     "metadata": {
      "needs_background": "light"
     },
     "output_type": "display_data"
    }
   ],
   "source": [
    "ax_belongs_to_collection = train_data.belongs_to_collection.value_counts().plot.bar()\n",
    "ax_belongs_to_collection.set_title('Belongs to Collection vs Number of Movies')\n",
    "ax_belongs_to_collection.set_xlabel('Belongs to Collection')\n",
    "ax_belongs_to_collection.set_ylabel('Number of Movies')\n",
    "plt.savefig(\"belongs_to_collection_vs_number_of_movies.png\")"
   ]
  },
  {
   "cell_type": "markdown",
   "metadata": {},
   "source": [
    " There is a class imbalance of movies not in collections to movies in colelctions at a ratio of around 4 to 1. "
   ]
  },
  {
   "cell_type": "markdown",
   "metadata": {},
   "source": [
    "## POPULARITY"
   ]
  },
  {
   "cell_type": "code",
   "execution_count": 36,
   "metadata": {},
   "outputs": [
    {
     "data": {
      "image/png": "[encoded data removed]",
      "text/plain": [
       "<Figure size 432x288 with 1 Axes>"
      ]
     },
     "metadata": {
      "needs_background": "light"
     },
     "output_type": "display_data"
    }
   ],
   "source": [
    "ax_popularity = sns.distplot(train_data.popularity,kde=False)\n",
    "ax_popularity.set_title('Popularity vs Number of Movies')\n",
    "ax_popularity.set_xlabel('popularity')\n",
    "ax_popularity.set_ylabel('number of movies')\n",
    "plt.savefig(\"popularity_vs_number_of_movies.png\")"
   ]
  },
  {
   "cell_type": "markdown",
   "metadata": {},
   "source": [
    "The distribution of popularity is skewed to the right. According to the TMDB documentation on how popularity is calculated, it is based on how much users of the website engage with that specific movies' page on their site in terms of views, votes, etc.  "
   ]
  },
  {
   "cell_type": "markdown",
   "metadata": {},
   "source": [
    "Source: https://developers.themoviedb.org/3/getting-started/popularity"
   ]
  },
  {
   "cell_type": "markdown",
   "metadata": {},
   "source": [
    "## POSTER PATH"
   ]
  },
  {
   "cell_type": "markdown",
   "metadata": {},
   "source": [
    "Since every movie in my training dataset has a poster, and in the real world I will always have access to poster paths, I am choosing to drop the poster path column as I do not believe that it will be helpful for predicting revenue. "
   ]
  },
  {
   "cell_type": "code",
   "execution_count": 37,
   "metadata": {},
   "outputs": [],
   "source": [
    "train_data.drop(columns=\"poster_path\",inplace=True)"
   ]
  },
  {
   "cell_type": "markdown",
   "metadata": {},
   "source": [
    "## HOMEPAGE"
   ]
  },
  {
   "cell_type": "code",
   "execution_count": 38,
   "metadata": {},
   "outputs": [
    {
     "name": "stderr",
     "output_type": "stream",
     "text": [
      "C:\\Users\\Danton\\Anaconda3\\lib\\site-packages\\ipykernel_launcher.py:1: SettingWithCopyWarning: \n",
      "A value is trying to be set on a copy of a slice from a DataFrame\n",
      "\n",
      "See the caveats in the documentation: http://pandas.pydata.org/pandas-docs/stable/indexing.html#indexing-view-versus-copy\n",
      "  \"\"\"Entry point for launching an IPython kernel.\n"
     ]
    }
   ],
   "source": [
    "train_data.homepage[train_data.homepage != \"No Homepage\"] = 1   "
   ]
  },
  {
   "cell_type": "code",
   "execution_count": 39,
   "metadata": {},
   "outputs": [
    {
     "name": "stderr",
     "output_type": "stream",
     "text": [
      "C:\\Users\\Danton\\Anaconda3\\lib\\site-packages\\ipykernel_launcher.py:1: SettingWithCopyWarning: \n",
      "A value is trying to be set on a copy of a slice from a DataFrame\n",
      "\n",
      "See the caveats in the documentation: http://pandas.pydata.org/pandas-docs/stable/indexing.html#indexing-view-versus-copy\n",
      "  \"\"\"Entry point for launching an IPython kernel.\n"
     ]
    }
   ],
   "source": [
    "train_data.homepage[train_data.homepage == \"No Homepage\"] = 0"
   ]
  },
  {
   "cell_type": "code",
   "execution_count": 40,
   "metadata": {},
   "outputs": [
    {
     "data": {
      "text/plain": [
       "0    1881\n",
       "1     894\n",
       "Name: homepage, dtype: int64"
      ]
     },
     "execution_count": 40,
     "metadata": {},
     "output_type": "execute_result"
    }
   ],
   "source": [
    "train_data.homepage.value_counts()"
   ]
  },
  {
   "cell_type": "markdown",
   "metadata": {},
   "source": [
    "There is a roughly 2 to 1 class imbalance in favor of not having a homepage. "
   ]
  },
  {
   "cell_type": "markdown",
   "metadata": {},
   "source": [
    "I do not believe that every movie in the real world necessarily has a homepage, so I will include homepage as a predictor variable in my model. "
   ]
  },
  {
   "cell_type": "markdown",
   "metadata": {},
   "source": [
    "## PRODUCTION COMPANIES"
   ]
  },
  {
   "cell_type": "code",
   "execution_count": 41,
   "metadata": {},
   "outputs": [],
   "source": [
    "train_data['production_companies'] = train_data['production_companies'].apply(lambda x: eval(x))"
   ]
  },
  {
   "cell_type": "code",
   "execution_count": 42,
   "metadata": {},
   "outputs": [],
   "source": [
    "train_data['number_of_production_companies'] = train_data['production_companies'].apply(lambda x: len(x))"
   ]
  },
  {
   "cell_type": "code",
   "execution_count": 43,
   "metadata": {},
   "outputs": [
    {
     "data": {
      "text/plain": [
       "1     745\n",
       "2     708\n",
       "3     575\n",
       "4     311\n",
       "5     164\n",
       "6     116\n",
       "7      62\n",
       "8      42\n",
       "9      29\n",
       "11      7\n",
       "10      7\n",
       "15      2\n",
       "16      2\n",
       "12      2\n",
       "13      1\n",
       "14      1\n",
       "17      1\n",
       "Name: number_of_production_companies, dtype: int64"
      ]
     },
     "execution_count": 43,
     "metadata": {},
     "output_type": "execute_result"
    }
   ],
   "source": [
    "train_data.number_of_production_companies.value_counts()"
   ]
  },
  {
   "cell_type": "markdown",
   "metadata": {},
   "source": [
    "It appears that the majority of films have 10 or fewer production companies, with only 23 having 10 or more. "
   ]
  },
  {
   "cell_type": "code",
   "execution_count": 44,
   "metadata": {},
   "outputs": [
    {
     "data": {
      "text/plain": [
       "0.12618413694402975"
      ]
     },
     "execution_count": 44,
     "metadata": {},
     "output_type": "execute_result"
    }
   ],
   "source": [
    "train_data['number_of_production_companies'].corr(train_data['revenue'])"
   ]
  },
  {
   "cell_type": "markdown",
   "metadata": {},
   "source": [
    "It appears that the number of production companies has a low correlation with that of movie revenue. "
   ]
  },
  {
   "cell_type": "markdown",
   "metadata": {},
   "source": [
    "## PRODUCTION COUNTRIES"
   ]
  },
  {
   "cell_type": "code",
   "execution_count": 45,
   "metadata": {},
   "outputs": [],
   "source": [
    "train_data['production_countries'] = train_data['production_countries'].apply(lambda x: eval(x))"
   ]
  },
  {
   "cell_type": "code",
   "execution_count": 46,
   "metadata": {},
   "outputs": [],
   "source": [
    "train_data['number_of_production_countries'] = train_data['production_countries'].apply(lambda x: len(x))"
   ]
  },
  {
   "cell_type": "code",
   "execution_count": 47,
   "metadata": {},
   "outputs": [
    {
     "data": {
      "text/plain": [
       "1    2077\n",
       "2     505\n",
       "3     112\n",
       "4      56\n",
       "5      21\n",
       "6       3\n",
       "8       1\n",
       "Name: number_of_production_countries, dtype: int64"
      ]
     },
     "execution_count": 47,
     "metadata": {},
     "output_type": "execute_result"
    }
   ],
   "source": [
    "train_data.number_of_production_countries.value_counts()"
   ]
  },
  {
   "cell_type": "code",
   "execution_count": 48,
   "metadata": {},
   "outputs": [
    {
     "data": {
      "text/plain": [
       "0.03334199514062878"
      ]
     },
     "execution_count": 48,
     "metadata": {},
     "output_type": "execute_result"
    }
   ],
   "source": [
    "train_data['number_of_production_countries'].corr(train_data['revenue'])"
   ]
  },
  {
   "cell_type": "markdown",
   "metadata": {},
   "source": [
    "It appears that the number of production countries has a low correlation with that of movie revenue. "
   ]
  },
  {
   "cell_type": "markdown",
   "metadata": {},
   "source": [
    "## CAST"
   ]
  },
  {
   "cell_type": "code",
   "execution_count": 49,
   "metadata": {},
   "outputs": [],
   "source": [
    "train_data['cast'] = train_data['cast'].apply(lambda x: eval(x))"
   ]
  },
  {
   "cell_type": "code",
   "execution_count": 50,
   "metadata": {},
   "outputs": [],
   "source": [
    "train_data['number_of_cast'] = train_data['cast'].apply(lambda x: len(x))"
   ]
  },
  {
   "cell_type": "code",
   "execution_count": 51,
   "metadata": {},
   "outputs": [
    {
     "data": {
      "text/plain": [
       "15    200\n",
       "16    163\n",
       "13    120\n",
       "10    119\n",
       "12    117\n",
       "Name: number_of_cast, dtype: int64"
      ]
     },
     "execution_count": 51,
     "metadata": {},
     "output_type": "execute_result"
    }
   ],
   "source": [
    "train_data.number_of_cast.value_counts().head()"
   ]
  },
  {
   "cell_type": "code",
   "execution_count": 52,
   "metadata": {},
   "outputs": [
    {
     "data": {
      "text/plain": [
       "0.32362389679815873"
      ]
     },
     "execution_count": 52,
     "metadata": {},
     "output_type": "execute_result"
    }
   ],
   "source": [
    "train_data['number_of_cast'].corr(train_data['revenue']) "
   ]
  },
  {
   "cell_type": "markdown",
   "metadata": {},
   "source": [
    "Compared to my other features, the number of cast members a movie has appears to have a relatively large correlation to its revenue. "
   ]
  },
  {
   "cell_type": "code",
   "execution_count": 53,
   "metadata": {},
   "outputs": [],
   "source": [
    "cast_names = list(train_data['cast'].apply(lambda x: [i['name'] for i in x] if x != {} else []).values)"
   ]
  },
  {
   "cell_type": "code",
   "execution_count": 54,
   "metadata": {},
   "outputs": [
    {
     "data": {
      "text/plain": [
       "[('Samuel L. Jackson', 29),\n",
       " ('Robert De Niro', 29),\n",
       " ('Morgan Freeman', 27),\n",
       " ('Bruce Willis', 25),\n",
       " ('Liam Neeson', 25),\n",
       " ('J.K. Simmons', 23),\n",
       " ('Willem Dafoe', 23),\n",
       " ('Bruce McGill', 23),\n",
       " ('Susan Sarandon', 23),\n",
       " ('John Turturro', 23),\n",
       " ('Forest Whitaker', 22),\n",
       " ('Bill Murray', 22),\n",
       " ('Owen Wilson', 22),\n",
       " ('Sylvester Stallone', 21),\n",
       " ('Jason Statham', 21),\n",
       " ('John Goodman', 21),\n",
       " ('Mel Gibson', 21),\n",
       " ('Sigourney Weaver', 21),\n",
       " ('Nicolas Cage', 21),\n",
       " ('Keith David', 20)]"
      ]
     },
     "execution_count": 54,
     "metadata": {},
     "output_type": "execute_result"
    }
   ],
   "source": [
    "Counter([i for j in cast_names for i in j]).most_common(20)"
   ]
  },
  {
   "cell_type": "code",
   "execution_count": 55,
   "metadata": {},
   "outputs": [],
   "source": [
    "top_cast = [cast[0] for cast in Counter([i for j in cast_names for i in j]).most_common(20)]"
   ]
  },
  {
   "cell_type": "code",
   "execution_count": 56,
   "metadata": {},
   "outputs": [],
   "source": [
    "for g in top_cast:\n",
    "    train_data[g] = train_data['cast'].apply(lambda x: 1 if g in str(x) else 0)"
   ]
  },
  {
   "cell_type": "markdown",
   "metadata": {},
   "source": [
    "This dummies out the top 20 actors in my data set and checks each movie to see if they have any of them. "
   ]
  },
  {
   "cell_type": "markdown",
   "metadata": {},
   "source": [
    "## CREW"
   ]
  },
  {
   "cell_type": "code",
   "execution_count": 57,
   "metadata": {},
   "outputs": [],
   "source": [
    "train_data['crew'] = train_data['crew'].apply(lambda x: eval(x))"
   ]
  },
  {
   "cell_type": "code",
   "execution_count": 58,
   "metadata": {},
   "outputs": [],
   "source": [
    "train_data['number_of_crew'] = train_data['crew'].apply(lambda x: len(x))"
   ]
  },
  {
   "cell_type": "code",
   "execution_count": 59,
   "metadata": {},
   "outputs": [
    {
     "data": {
      "text/plain": [
       "2     131\n",
       "10    121\n",
       "11    121\n",
       "12    110\n",
       "9     104\n",
       "Name: number_of_crew, dtype: int64"
      ]
     },
     "execution_count": 59,
     "metadata": {},
     "output_type": "execute_result"
    }
   ],
   "source": [
    "train_data.number_of_crew.value_counts().head()"
   ]
  },
  {
   "cell_type": "code",
   "execution_count": 60,
   "metadata": {},
   "outputs": [
    {
     "data": {
      "text/plain": [
       "0.3581265942346797"
      ]
     },
     "execution_count": 60,
     "metadata": {},
     "output_type": "execute_result"
    }
   ],
   "source": [
    "train_data['number_of_crew'].corr(train_data['revenue'])"
   ]
  },
  {
   "cell_type": "markdown",
   "metadata": {},
   "source": [
    "Compared to my other features, the number of crew members a movie has appears to have a relatively large correlation to its revenue. "
   ]
  },
  {
   "cell_type": "code",
   "execution_count": 61,
   "metadata": {},
   "outputs": [],
   "source": [
    "crew_names = list(train_data['crew'].apply(lambda x: [i['name'] for i in x] if x != {} else []).values)"
   ]
  },
  {
   "cell_type": "code",
   "execution_count": 62,
   "metadata": {},
   "outputs": [
    {
     "data": {
      "text/plain": [
       "[('Avy Kaufman', 49),\n",
       " ('Robert Rodriguez', 44),\n",
       " ('Deborah Aquila', 40),\n",
       " ('James Newton Howard', 38),\n",
       " ('Mary Vernieu', 38),\n",
       " ('Steven Spielberg', 37),\n",
       " ('Luc Besson', 37),\n",
       " ('Jerry Goldsmith', 37),\n",
       " ('Francine Maisler', 35),\n",
       " ('Tricia Wood', 35),\n",
       " ('James Horner', 33),\n",
       " ('Kerry Barden', 30),\n",
       " ('Bob Weinstein', 30),\n",
       " ('Harvey Weinstein', 30),\n",
       " ('Janet Hirshenson', 30),\n",
       " ('Jane Jenkins', 29),\n",
       " ('John Debney', 28),\n",
       " ('John Papsidera', 28),\n",
       " ('Francis Ford Coppola', 28),\n",
       " ('Hans Zimmer', 27)]"
      ]
     },
     "execution_count": 62,
     "metadata": {},
     "output_type": "execute_result"
    }
   ],
   "source": [
    "Counter([i for j in crew_names for i in j]).most_common(20)"
   ]
  },
  {
   "cell_type": "code",
   "execution_count": 63,
   "metadata": {},
   "outputs": [],
   "source": [
    "top_crew = [crew[0] for crew in Counter([i for j in crew_names for i in j]).most_common(20)]"
   ]
  },
  {
   "cell_type": "code",
   "execution_count": 64,
   "metadata": {},
   "outputs": [],
   "source": [
    "for g in top_crew:\n",
    "    train_data[g] = train_data['crew'].apply(lambda x: 1 if g in str(x) else 0)"
   ]
  },
  {
   "cell_type": "markdown",
   "metadata": {},
   "source": [
    "This dummies out the top 20 crew members in my data set and checks each movie to see if they have any of them."
   ]
  },
  {
   "cell_type": "markdown",
   "metadata": {},
   "source": [
    "## SPOKEN LANGUAGES"
   ]
  },
  {
   "cell_type": "code",
   "execution_count": 65,
   "metadata": {},
   "outputs": [],
   "source": [
    "train_data['spoken_languages'] = train_data['spoken_languages'].apply(lambda x: eval(x))"
   ]
  },
  {
   "cell_type": "code",
   "execution_count": 66,
   "metadata": {},
   "outputs": [],
   "source": [
    "train_data['number_of_spoken_languages'] = train_data['spoken_languages'].apply(lambda x: len(x))"
   ]
  },
  {
   "cell_type": "code",
   "execution_count": 67,
   "metadata": {},
   "outputs": [
    {
     "data": {
      "text/plain": [
       "1    1942\n",
       "2     522\n",
       "3     205\n",
       "4      71\n",
       "5      22\n",
       "7       6\n",
       "6       5\n",
       "9       1\n",
       "8       1\n",
       "Name: number_of_spoken_languages, dtype: int64"
      ]
     },
     "execution_count": 67,
     "metadata": {},
     "output_type": "execute_result"
    }
   ],
   "source": [
    "train_data.number_of_spoken_languages.value_counts()"
   ]
  },
  {
   "cell_type": "code",
   "execution_count": 68,
   "metadata": {},
   "outputs": [
    {
     "data": {
      "text/plain": [
       "0.058293732918601696"
      ]
     },
     "execution_count": 68,
     "metadata": {},
     "output_type": "execute_result"
    }
   ],
   "source": [
    "train_data['number_of_spoken_languages'].corr(train_data['revenue'])"
   ]
  },
  {
   "cell_type": "code",
   "execution_count": 69,
   "metadata": {},
   "outputs": [
    {
     "data": {
      "text/plain": [
       "Text(0, 0.5, 'Number of Movies')"
      ]
     },
     "execution_count": 69,
     "metadata": {},
     "output_type": "execute_result"
    },
    {
     "data": {
      "image/png": "[encoded data removed]",
      "text/plain": [
       "<Figure size 432x288 with 1 Axes>"
      ]
     },
     "metadata": {
      "needs_background": "light"
     },
     "output_type": "display_data"
    }
   ],
   "source": [
    "ax_spoken_languages = train_data.number_of_spoken_languages.value_counts().plot.bar()\n",
    "ax_spoken_languages.set_title('Number of Spoken Languages vs Number of Movies')\n",
    "ax_spoken_languages.set_xlabel('Number of Spoken Languages')\n",
    "ax_spoken_languages.set_ylabel('Number of Movies')"
   ]
  },
  {
   "cell_type": "markdown",
   "metadata": {},
   "source": [
    "The distribution of spoken languages is skewed to the right. "
   ]
  },
  {
   "cell_type": "markdown",
   "metadata": {},
   "source": [
    "## ORIGINAL LANGUAGE"
   ]
  },
  {
   "cell_type": "code",
   "execution_count": 70,
   "metadata": {},
   "outputs": [
    {
     "data": {
      "text/plain": [
       "en    2407\n",
       "fr      74\n",
       "es      40\n",
       "hi      35\n",
       "ru      34\n",
       "ja      32\n",
       "cn      20\n",
       "it      18\n",
       "ko      18\n",
       "de      16\n",
       "zh      16\n",
       "ta      14\n",
       "sv       7\n",
       "pt       6\n",
       "da       5\n",
       "fa       5\n",
       "nl       4\n",
       "ro       4\n",
       "hu       3\n",
       "no       2\n",
       "ml       2\n",
       "pl       2\n",
       "tr       2\n",
       "id       1\n",
       "bn       1\n",
       "nb       1\n",
       "fi       1\n",
       "he       1\n",
       "ar       1\n",
       "el       1\n",
       "te       1\n",
       "ur       1\n",
       "Name: original_language, dtype: int64"
      ]
     },
     "execution_count": 70,
     "metadata": {},
     "output_type": "execute_result"
    }
   ],
   "source": [
    "train_data.original_language.value_counts()"
   ]
  },
  {
   "cell_type": "markdown",
   "metadata": {},
   "source": [
    "It appears that the majority of films in my dataset have English has their original language, with French and Spanish being the runnerups in number. There is a large class imbalance between English and non-English original language films. "
   ]
  },
  {
   "cell_type": "markdown",
   "metadata": {},
   "source": [
    "## KEYWORDS "
   ]
  },
  {
   "cell_type": "code",
   "execution_count": 71,
   "metadata": {},
   "outputs": [],
   "source": [
    "train_data['Keywords'] = train_data['Keywords'].apply(lambda x: eval(x))"
   ]
  },
  {
   "cell_type": "code",
   "execution_count": 72,
   "metadata": {},
   "outputs": [],
   "source": [
    "train_data['number_of_keywords'] = train_data['Keywords'].apply(lambda x: len(x))"
   ]
  },
  {
   "cell_type": "code",
   "execution_count": 73,
   "metadata": {},
   "outputs": [
    {
     "data": {
      "text/plain": [
       "5      281\n",
       "4      233\n",
       "6      218\n",
       "3      211\n",
       "0      188\n",
       "7      184\n",
       "2      184\n",
       "8      159\n",
       "1      154\n",
       "9      130\n",
       "11     130\n",
       "10     120\n",
       "12      97\n",
       "13      84\n",
       "15      59\n",
       "16      58\n",
       "14      58\n",
       "17      43\n",
       "18      29\n",
       "20      24\n",
       "21      23\n",
       "19      22\n",
       "22      17\n",
       "23      15\n",
       "24      12\n",
       "27      12\n",
       "25       6\n",
       "26       5\n",
       "31       2\n",
       "28       2\n",
       "30       2\n",
       "32       2\n",
       "29       2\n",
       "37       2\n",
       "43       1\n",
       "39       1\n",
       "33       1\n",
       "38       1\n",
       "40       1\n",
       "97       1\n",
       "149      1\n",
       "Name: number_of_keywords, dtype: int64"
      ]
     },
     "execution_count": 73,
     "metadata": {},
     "output_type": "execute_result"
    }
   ],
   "source": [
    "train_data.number_of_keywords.value_counts()"
   ]
  },
  {
   "cell_type": "markdown",
   "metadata": {},
   "source": [
    "It appears that most films in my dataset have between 1 and 10 keywords, with only a few having more than 25. "
   ]
  },
  {
   "cell_type": "code",
   "execution_count": 74,
   "metadata": {},
   "outputs": [
    {
     "data": {
      "text/plain": [
       "0.16802467883367625"
      ]
     },
     "execution_count": 74,
     "metadata": {},
     "output_type": "execute_result"
    }
   ],
   "source": [
    "train_data['number_of_keywords'].corr(train_data['revenue'])"
   ]
  },
  {
   "cell_type": "markdown",
   "metadata": {},
   "source": [
    "The correlation between the number of keywords a movie has and the amount of revenue it generates is relatively low. "
   ]
  },
  {
   "cell_type": "markdown",
   "metadata": {},
   "source": [
    "## ORIGINAL TITLE AND TITLE"
   ]
  },
  {
   "cell_type": "markdown",
   "metadata": {},
   "source": [
    "I am dropping title and original title from my dataset, as I do not believe that they will help me predict revenue.  "
   ]
  },
  {
   "cell_type": "code",
   "execution_count": 75,
   "metadata": {},
   "outputs": [],
   "source": [
    "train_data.drop(columns=\"original_title\",inplace=True)\n",
    "train_data.drop(columns=\"title\",inplace=True)"
   ]
  },
  {
   "cell_type": "markdown",
   "metadata": {},
   "source": [
    "## EXPORTING DATA"
   ]
  },
  {
   "cell_type": "code",
   "execution_count": 77,
   "metadata": {},
   "outputs": [],
   "source": [
    "train_data.to_csv('../data/train_data_final.csv',index=False)"
   ]
  },
  {
   "cell_type": "code",
   "execution_count": 78,
   "metadata": {},
   "outputs": [],
   "source": [
    "X = train_data[['homepage','number_of_genres','number_of_production_companies',\n",
    "               'number_of_production_countries','number_of_cast','number_of_crew','number_of_spoken_languages',\n",
    "              'number_of_keywords', 'Samuel L. Jackson',\n",
    "       'Robert De Niro', 'Morgan Freeman', 'Bruce Willis', 'Liam Neeson',\n",
    "       'J.K. Simmons', 'Willem Dafoe', 'Bruce McGill', 'Susan Sarandon',\n",
    "       'John Turturro', 'Forest Whitaker', 'Bill Murray', 'Owen Wilson',\n",
    "       'Sylvester Stallone', 'Jason Statham', 'John Goodman', 'Mel Gibson',\n",
    "       'Sigourney Weaver', 'Nicolas Cage', 'Keith David', 'number_of_crew',\n",
    "       'Avy Kaufman', 'Robert Rodriguez', 'Deborah Aquila',\n",
    "       'James Newton Howard', 'Mary Vernieu', 'Steven Spielberg', 'Luc Besson',\n",
    "       'Jerry Goldsmith', 'Francine Maisler', 'Tricia Wood', 'James Horner',\n",
    "       'Kerry Barden', 'Bob Weinstein', 'Harvey Weinstein', 'Janet Hirshenson',\n",
    "       'Jane Jenkins', 'John Debney', 'John Papsidera', 'Francis Ford Coppola',\n",
    "       'Hans Zimmer']]\n"
   ]
  },
  {
   "cell_type": "code",
   "execution_count": 79,
   "metadata": {},
   "outputs": [],
   "source": [
    "y = train_data['revenue']"
   ]
  },
  {
   "cell_type": "code",
   "execution_count": 80,
   "metadata": {},
   "outputs": [],
   "source": [
    "X_train, X_test, y_train, y_test = train_test_split(X, y, random_state=42)"
   ]
  },
  {
   "cell_type": "code",
   "execution_count": 81,
   "metadata": {},
   "outputs": [],
   "source": [
    "X_train.to_csv('../data/train_data_final_X_train.csv',index=False)"
   ]
  },
  {
   "cell_type": "code",
   "execution_count": 82,
   "metadata": {},
   "outputs": [],
   "source": [
    "X_test.to_csv('../data/train_data_final_X_test.csv',index=False)"
   ]
  },
  {
   "cell_type": "code",
   "execution_count": 83,
   "metadata": {},
   "outputs": [],
   "source": [
    "y_train.to_csv('../data/train_data_final_y_train.csv',index=False,header=True)"
   ]
  },
  {
   "cell_type": "code",
   "execution_count": 84,
   "metadata": {},
   "outputs": [],
   "source": [
    "y_test.to_csv('../data/train_data_final_y_test.csv',index=False,header=True)"
   ]
  },
  {
   "cell_type": "markdown",
   "metadata": {},
   "source": [
    "The above code splits my data up with train test splits and then exports those splits to csv files. "
   ]
  },
  {
   "cell_type": "code",
   "execution_count": null,
   "metadata": {},
   "outputs": [],
   "source": []
  },
  {
   "cell_type": "code",
   "execution_count": null,
   "metadata": {},
   "outputs": [],
   "source": []
  }
 ],
 "metadata": {
  "kernelspec": {
   "display_name": "Python 3",
   "language": "python",
   "name": "python3"
  },
  "language_info": {
   "codemirror_mode": {
    "name": "ipython",
    "version": 3
   },
   "file_extension": ".py",
   "mimetype": "text/x-python",
   "name": "python",
   "nbconvert_exporter": "python",
   "pygments_lexer": "ipython3",
   "version": "3.7.3"
  }
 },
 "nbformat": 4,
 "nbformat_minor": 2
}
